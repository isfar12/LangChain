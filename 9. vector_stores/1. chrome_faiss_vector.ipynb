{
 "cells": [
  {
   "cell_type": "code",
   "execution_count": 1,
   "id": "6abdd9d7",
   "metadata": {},
   "outputs": [],
   "source": [
    "from langchain_ollama import OllamaEmbeddings\n",
    "from langchain_chroma import Chroma\n",
    "from langchain.schema import Document"
   ]
  },
  {
   "cell_type": "code",
   "execution_count": 2,
   "id": "3066215e",
   "metadata": {},
   "outputs": [],
   "source": [
    "doc1 = Document(\n",
    "        page_content=\"Virat Kohli is one of the most successful and consistent batsmen in IPL history. Known for his aggressive batting style and fitness, he has led the Royal Challengers Bangalore in multiple seasons.\",\n",
    "        metadata={\"team\": \"Royal Challengers Bangalore\"}\n",
    "    )\n",
    "doc2 = Document(\n",
    "        page_content=\"Rohit Sharma is the most successful captain in IPL history, leading Mumbai Indians to five titles. He's known for his calm demeanor and ability to play big innings under pressure.\",\n",
    "        metadata={\"team\": \"Mumbai Indians\"}\n",
    "    )\n",
    "doc3 = Document(\n",
    "        page_content=\"MS Dhoni, famously known as Captain Cool, has led Chennai Super Kings to multiple IPL titles. His finishing skills, wicketkeeping, and leadership are legendary.\",\n",
    "        metadata={\"team\": \"Chennai Super Kings\"}\n",
    "    )\n",
    "doc4 = Document(\n",
    "        page_content=\"Jasprit Bumrah is considered one of the best fast bowlers in T20 cricket. Playing for Mumbai Indians, he is known for his yorkers and death-over expertise.\",\n",
    "        metadata={\"team\": \"Mumbai Indians\"}\n",
    "    )\n",
    "doc5 = Document(\n",
    "        page_content=\"Ravindra Jadeja is a dynamic all-rounder who contributes with both bat and ball. Representing Chennai Super Kings, his quick fielding and match-winning performances make him a key player.\",\n",
    "        metadata={\"team\": \"Chennai Super Kings\"}\n",
    "    )\n"
   ]
  },
  {
   "cell_type": "code",
   "execution_count": 3,
   "id": "6885445f",
   "metadata": {},
   "outputs": [],
   "source": [
    "docs = [doc1, doc2, doc3, doc4, doc5]"
   ]
  },
  {
   "cell_type": "code",
   "execution_count": 4,
   "id": "5a7a9482",
   "metadata": {},
   "outputs": [],
   "source": [
    "vector_store = Chroma(\n",
    "    embedding_function= OllamaEmbeddings(model=\"mxbai-embed-large:latest\"),\n",
    "    persist_directory=\"./chroma_vector_store\",\n",
    "    collection_name=\"ipl_players\"\n",
    ")"
   ]
  },
  {
   "cell_type": "code",
   "execution_count": 5,
   "id": "8c44df3f",
   "metadata": {},
   "outputs": [
    {
     "data": {
      "text/plain": [
       "['8681d921-510f-4a30-be8b-21e2a40e2ba8',\n",
       " '325b8aab-d371-44a6-94c6-9b4afefe1113',\n",
       " '01ee2b2a-27a7-43b9-ba3a-fcf236d546bc',\n",
       " 'e27dd99b-461a-4493-a28a-434d77ffdcfb',\n",
       " 'c4b25022-7bf5-41d5-b0fb-39ed88fa231e']"
      ]
     },
     "execution_count": 5,
     "metadata": {},
     "output_type": "execute_result"
    }
   ],
   "source": [
    "vector_store.add_documents(docs)"
   ]
  },
  {
   "cell_type": "code",
   "execution_count": 7,
   "id": "145f66e9",
   "metadata": {},
   "outputs": [
    {
     "data": {
      "text/plain": [
       "{'ids': ['8681d921-510f-4a30-be8b-21e2a40e2ba8',\n",
       "  '325b8aab-d371-44a6-94c6-9b4afefe1113',\n",
       "  '01ee2b2a-27a7-43b9-ba3a-fcf236d546bc',\n",
       "  'e27dd99b-461a-4493-a28a-434d77ffdcfb',\n",
       "  'c4b25022-7bf5-41d5-b0fb-39ed88fa231e'],\n",
       " 'embeddings': array([[-0.00305994, -0.00067746, -0.01950116, ..., -0.01809232,\n",
       "          0.00224479, -0.01839667],\n",
       "        [ 0.011407  , -0.00504809, -0.02182324, ..., -0.03096802,\n",
       "         -0.00219065, -0.01153075],\n",
       "        [ 0.01529596, -0.03284545,  0.00229882, ..., -0.03850375,\n",
       "          0.01139813, -0.024506  ],\n",
       "        [ 0.01495303, -0.03848034, -0.05679601, ..., -0.02225875,\n",
       "         -0.02139301, -0.02756477],\n",
       "        [ 0.01527351, -0.01398912, -0.04008266, ..., -0.02239788,\n",
       "         -0.00060608, -0.000811  ]]),\n",
       " 'documents': ['Virat Kohli is one of the most successful and consistent batsmen in IPL history. Known for his aggressive batting style and fitness, he has led the Royal Challengers Bangalore in multiple seasons.',\n",
       "  \"Rohit Sharma is the most successful captain in IPL history, leading Mumbai Indians to five titles. He's known for his calm demeanor and ability to play big innings under pressure.\",\n",
       "  'MS Dhoni, famously known as Captain Cool, has led Chennai Super Kings to multiple IPL titles. His finishing skills, wicketkeeping, and leadership are legendary.',\n",
       "  'Jasprit Bumrah is considered one of the best fast bowlers in T20 cricket. Playing for Mumbai Indians, he is known for his yorkers and death-over expertise.',\n",
       "  'Ravindra Jadeja is a dynamic all-rounder who contributes with both bat and ball. Representing Chennai Super Kings, his quick fielding and match-winning performances make him a key player.'],\n",
       " 'uris': None,\n",
       " 'included': ['embeddings', 'metadatas', 'documents'],\n",
       " 'data': None,\n",
       " 'metadatas': [{'team': 'Royal Challengers Bangalore'},\n",
       "  {'team': 'Mumbai Indians'},\n",
       "  {'team': 'Chennai Super Kings'},\n",
       "  {'team': 'Mumbai Indians'},\n",
       "  {'team': 'Chennai Super Kings'}]}"
      ]
     },
     "execution_count": 7,
     "metadata": {},
     "output_type": "execute_result"
    }
   ],
   "source": [
    "vector_store.get(include=[\"embeddings\",\"metadatas\",\"documents\"])"
   ]
  },
  {
   "cell_type": "code",
   "execution_count": 8,
   "id": "41b9f6a7",
   "metadata": {},
   "outputs": [
    {
     "data": {
      "text/plain": [
       "[Document(id='01ee2b2a-27a7-43b9-ba3a-fcf236d546bc', metadata={'team': 'Chennai Super Kings'}, page_content='MS Dhoni, famously known as Captain Cool, has led Chennai Super Kings to multiple IPL titles. His finishing skills, wicketkeeping, and leadership are legendary.'),\n",
       " Document(id='325b8aab-d371-44a6-94c6-9b4afefe1113', metadata={'team': 'Mumbai Indians'}, page_content=\"Rohit Sharma is the most successful captain in IPL history, leading Mumbai Indians to five titles. He's known for his calm demeanor and ability to play big innings under pressure.\")]"
      ]
     },
     "execution_count": 8,
     "metadata": {},
     "output_type": "execute_result"
    }
   ],
   "source": [
    "vector_store.similarity_search(\n",
    "    query=\"Who is the captain of Chennai Super Kings?\",\n",
    "    k=2,\n",
    ")"
   ]
  },
  {
   "cell_type": "code",
   "execution_count": 12,
   "id": "7366145b",
   "metadata": {},
   "outputs": [],
   "source": [
    "updated_doc = Document(\n",
    "        page_content=\"Zubayer Isfar is one of the most successful and consistent batsmen in IPL history. Known for his aggressive batting style and fitness, he has led the Royal Challengers Bangalore in multiple seasons.\",\n",
    "        metadata={\"team\": \"Royal Challengers Bangalore\"}\n",
    "    )\n",
    "\n",
    "vector_store.update_document(\n",
    "    document_id=\"8681d921-510f-4a30-be8b-21e2a40e2ba8\",\n",
    "    document=updated_doc,)"
   ]
  },
  {
   "cell_type": "code",
   "execution_count": 14,
   "id": "10e0e146",
   "metadata": {},
   "outputs": [
    {
     "data": {
      "text/plain": [
       "{'ids': ['8681d921-510f-4a30-be8b-21e2a40e2ba8',\n",
       "  '325b8aab-d371-44a6-94c6-9b4afefe1113',\n",
       "  '01ee2b2a-27a7-43b9-ba3a-fcf236d546bc',\n",
       "  'e27dd99b-461a-4493-a28a-434d77ffdcfb',\n",
       "  'c4b25022-7bf5-41d5-b0fb-39ed88fa231e'],\n",
       " 'embeddings': array([[ 0.01620568, -0.01533225, -0.01537469, ..., -0.02700067,\n",
       "         -0.01346272, -0.00078575],\n",
       "        [ 0.011407  , -0.00504809, -0.02182324, ..., -0.03096802,\n",
       "         -0.00219065, -0.01153075],\n",
       "        [ 0.01529596, -0.03284545,  0.00229882, ..., -0.03850375,\n",
       "          0.01139813, -0.024506  ],\n",
       "        [ 0.01495303, -0.03848034, -0.05679601, ..., -0.02225875,\n",
       "         -0.02139301, -0.02756477],\n",
       "        [ 0.01527351, -0.01398912, -0.04008266, ..., -0.02239788,\n",
       "         -0.00060608, -0.000811  ]]),\n",
       " 'documents': ['Zubayer Isfar is one of the most successful and consistent batsmen in IPL history. Known for his aggressive batting style and fitness, he has led the Royal Challengers Bangalore in multiple seasons.',\n",
       "  \"Rohit Sharma is the most successful captain in IPL history, leading Mumbai Indians to five titles. He's known for his calm demeanor and ability to play big innings under pressure.\",\n",
       "  'MS Dhoni, famously known as Captain Cool, has led Chennai Super Kings to multiple IPL titles. His finishing skills, wicketkeeping, and leadership are legendary.',\n",
       "  'Jasprit Bumrah is considered one of the best fast bowlers in T20 cricket. Playing for Mumbai Indians, he is known for his yorkers and death-over expertise.',\n",
       "  'Ravindra Jadeja is a dynamic all-rounder who contributes with both bat and ball. Representing Chennai Super Kings, his quick fielding and match-winning performances make him a key player.'],\n",
       " 'uris': None,\n",
       " 'included': ['embeddings', 'metadatas', 'documents'],\n",
       " 'data': None,\n",
       " 'metadatas': [{'team': 'Royal Challengers Bangalore'},\n",
       "  {'team': 'Mumbai Indians'},\n",
       "  {'team': 'Chennai Super Kings'},\n",
       "  {'team': 'Mumbai Indians'},\n",
       "  {'team': 'Chennai Super Kings'}]}"
      ]
     },
     "execution_count": 14,
     "metadata": {},
     "output_type": "execute_result"
    }
   ],
   "source": [
    "vector_store.get(include=[\"embeddings\",\"metadatas\",\"documents\"])"
   ]
  },
  {
   "cell_type": "code",
   "execution_count": 17,
   "id": "1582e725",
   "metadata": {},
   "outputs": [],
   "source": [
    "from langchain.vectorstores import FAISS"
   ]
  },
  {
   "cell_type": "markdown",
   "id": "586e2096",
   "metadata": {},
   "source": [
    "# FAISS Vector Store\n",
    "\n",
    "FAISS (Facebook AI Similarity Search) is a library for efficient similarity search and clustering of dense vectors.\n",
    "\n",
    "**Installation:**\n",
    "- For CPU version (recommended): `pip install faiss-cpu`\n",
    "- For GPU version (if you have CUDA): `pip install faiss-gpu`\n",
    "\n",
    "**Note:** If you get an error with `faiss-gpu`, use `faiss-cpu` instead. It works just as well for most use cases."
   ]
  },
  {
   "cell_type": "code",
   "execution_count": 20,
   "id": "90ec655d",
   "metadata": {},
   "outputs": [],
   "source": [
    "faiss_store = FAISS.from_documents(\n",
    "    documents=docs,\n",
    "    embedding=OllamaEmbeddings(model=\"mxbai-embed-large:latest\"),\n",
    ")"
   ]
  },
  {
   "cell_type": "code",
   "execution_count": 21,
   "id": "711269af",
   "metadata": {},
   "outputs": [],
   "source": [
    "faiss_store.save_local(\"faiss_vector_store_with_meta\")"
   ]
  },
  {
   "cell_type": "code",
   "execution_count": 24,
   "id": "9e8c5087",
   "metadata": {},
   "outputs": [],
   "source": [
    "store = FAISS.load_local(\"faiss_vector_store_with_meta\", OllamaEmbeddings(model=\"mxbai-embed-large:latest\"),allow_dangerous_deserialization=True)"
   ]
  },
  {
   "cell_type": "code",
   "execution_count": 25,
   "id": "58d8fef3",
   "metadata": {},
   "outputs": [],
   "source": [
    "query = \"Who is a top finisher?\"\n",
    "results = store.similarity_search(query, k=2)"
   ]
  },
  {
   "cell_type": "code",
   "execution_count": 27,
   "id": "3fd4a12f",
   "metadata": {},
   "outputs": [
    {
     "data": {
      "text/plain": [
       "[Document(id='655419b2-8342-44f5-8afc-21e25bf5c33d', metadata={'team': 'Chennai Super Kings'}, page_content='MS Dhoni, famously known as Captain Cool, has led Chennai Super Kings to multiple IPL titles. His finishing skills, wicketkeeping, and leadership are legendary.'),\n",
       " Document(id='6baacb86-43c3-45f0-b69a-bbe881f55941', metadata={'team': 'Mumbai Indians'}, page_content=\"Rohit Sharma is the most successful captain in IPL history, leading Mumbai Indians to five titles. He's known for his calm demeanor and ability to play big innings under pressure.\")]"
      ]
     },
     "execution_count": 27,
     "metadata": {},
     "output_type": "execute_result"
    }
   ],
   "source": [
    "results"
   ]
  },
  {
   "cell_type": "code",
   "execution_count": null,
   "id": "8b0b534d",
   "metadata": {},
   "outputs": [],
   "source": []
  }
 ],
 "metadata": {
  "kernelspec": {
   "display_name": "Python 3",
   "language": "python",
   "name": "python3"
  },
  "language_info": {
   "codemirror_mode": {
    "name": "ipython",
    "version": 3
   },
   "file_extension": ".py",
   "mimetype": "text/x-python",
   "name": "python",
   "nbconvert_exporter": "python",
   "pygments_lexer": "ipython3",
   "version": "3.11.8"
  }
 },
 "nbformat": 4,
 "nbformat_minor": 5
}
