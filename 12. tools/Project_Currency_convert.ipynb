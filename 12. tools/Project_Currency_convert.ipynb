{
 "cells": [
  {
   "cell_type": "code",
   "execution_count": 45,
   "id": "778a0b3f",
   "metadata": {},
   "outputs": [
    {
     "data": {
      "text/plain": [
       "{'result': 'success',\n",
       " 'documentation': 'https://www.exchangerate-api.com/docs',\n",
       " 'terms_of_use': 'https://www.exchangerate-api.com/terms',\n",
       " 'time_last_update_unix': 1754769601,\n",
       " 'time_last_update_utc': 'Sat, 09 Aug 2025 20:00:01 +0000',\n",
       " 'time_next_update_unix': 1754773201,\n",
       " 'time_next_update_utc': 'Sat, 09 Aug 2025 21:00:01 +0000',\n",
       " 'base_code': 'USD',\n",
       " 'target_code': 'BDT',\n",
       " 'conversion_rate': 121.55656536}"
      ]
     },
     "execution_count": 45,
     "metadata": {},
     "output_type": "execute_result"
    }
   ],
   "source": [
    "import requests\n",
    "\n",
    "url=\"https://v6.exchangerate-api.com/v6/22dd33f5efd4cebd27af814d/pair/USD/BDT\"\n",
    "response = requests.get(url)\n",
    "data = response.json()\n",
    "data"
   ]
  },
  {
   "cell_type": "code",
   "execution_count": 46,
   "id": "7003e34e",
   "metadata": {},
   "outputs": [],
   "source": [
    "from langchain_core.tools import tool\n",
    "\n",
    "@tool\n",
    "def get_exchange_rate(from_currency: str, to_currency: str) -> float:\n",
    "    \"\"\"\n",
    "    Get the exchange rate from one currency to another.\n",
    "    \"\"\"\n",
    "    url = f\"https://v6.exchangerate-api.com/v6/22dd33f5efd4cebd27af814d/pair/{from_currency}/{to_currency}\"\n",
    "    response = requests.get(url)\n",
    "    data = response.json()\n",
    "    return data[\"conversion_rate\"]\n",
    "\n",
    "@tool\n",
    "def convert_currency(amount: float, conversion_rate: float) -> float:\n",
    "    \"\"\"\n",
    "    Convert currency using conversion rate.\n",
    "    \"\"\"\n",
    "    return amount * conversion_rate\n"
   ]
  },
  {
   "cell_type": "code",
   "execution_count": 47,
   "id": "03142b6f",
   "metadata": {},
   "outputs": [
    {
     "name": "stdout",
     "output_type": "stream",
     "text": [
      "NAME                           ID              SIZE      MODIFIED    \n",
      "gemma3:4b                      a2af6cc3eb7f    3.3 GB    4 hours ago    \n",
      "llama3-groq-tool-use:latest    36211dad2b15    4.7 GB    7 hours ago    \n",
      "mistral:7b                     6577803aa9a0    4.4 GB    2 days ago     \n",
      "mxbai-embed-large:latest       468836162de7    669 MB    3 days ago     \n",
      "nomic-embed-text:latest        0a109f422b47    274 MB    3 days ago     \n",
      "gemma2:2b                      8ccf136fdd52    1.6 GB    4 days ago     \n",
      "gemma3:1b                      8648f39daa8f    815 MB    4 days ago     \n",
      "llama3.2:latest                a80c4f17acd5    2.0 GB    4 days ago     \n",
      "qwen3:4b                       2bfd38a7daaf    2.6 GB    4 days ago     \n",
      "deepseek-r1:8b                 6995872bfe4c    5.2 GB    6 days ago     \n"
     ]
    }
   ],
   "source": [
    "!ollama list"
   ]
  },
  {
   "cell_type": "code",
   "execution_count": 48,
   "id": "fa168140",
   "metadata": {},
   "outputs": [],
   "source": [
    "from langchain_ollama import ChatOllama\n",
    "\n",
    "llm = ChatOllama(\n",
    "    model=\"llama3.2:latest\",\n",
    "    temperature=0.7\n",
    ")"
   ]
  },
  {
   "cell_type": "code",
   "execution_count": 49,
   "id": "ceb45376",
   "metadata": {},
   "outputs": [],
   "source": [
    "llm_with_tools=llm.bind_tools([get_exchange_rate, convert_currency])"
   ]
  },
  {
   "cell_type": "code",
   "execution_count": 50,
   "id": "531736b1",
   "metadata": {},
   "outputs": [],
   "source": [
    "from langchain_core.messages import HumanMessage\n",
    "\n",
    "messages=[HumanMessage(\"What is the exchange rate from USD to BDT and using that rate, convert 10 USD to BDT\")]"
   ]
  },
  {
   "cell_type": "code",
   "execution_count": 51,
   "id": "51e924d5",
   "metadata": {},
   "outputs": [],
   "source": [
    "ai_response = llm_with_tools.invoke(messages)"
   ]
  },
  {
   "cell_type": "code",
   "execution_count": 52,
   "id": "f83d19c7",
   "metadata": {},
   "outputs": [
    {
     "data": {
      "text/plain": [
       "AIMessage(content='', additional_kwargs={}, response_metadata={'model': 'llama3.2:latest', 'created_at': '2025-08-09T20:04:07.2261701Z', 'done': True, 'done_reason': 'stop', 'total_duration': 5476792000, 'load_duration': 42889800, 'prompt_eval_count': 249, 'prompt_eval_duration': 1555142100, 'eval_count': 64, 'eval_duration': 3877147300, 'model_name': 'llama3.2:latest'}, id='run--1500b9ab-5aa2-4648-9b03-a85f4a643952-0', tool_calls=[{'name': 'get_exchange_rate', 'args': {'from_currency': 'USD', 'to_currency': 'BDT'}, 'id': 'fd6ea390-2cf9-47d2-b2e4-8ae7c0d8b3a6', 'type': 'tool_call'}, {'name': 'convert_currency', 'args': {'amount': '10', 'conversion_rate': {'rate': '1 USD = 85.20 BDT'}}, 'id': '231564fd-33fb-4f7c-b7e8-25ca44c59ab8', 'type': 'tool_call'}], usage_metadata={'input_tokens': 249, 'output_tokens': 64, 'total_tokens': 313})"
      ]
     },
     "execution_count": 52,
     "metadata": {},
     "output_type": "execute_result"
    }
   ],
   "source": [
    "ai_response"
   ]
  },
  {
   "cell_type": "code",
   "execution_count": 53,
   "id": "59b61304",
   "metadata": {},
   "outputs": [
    {
     "data": {
      "text/plain": [
       "[{'name': 'get_exchange_rate',\n",
       "  'args': {'from_currency': 'USD', 'to_currency': 'BDT'},\n",
       "  'id': 'fd6ea390-2cf9-47d2-b2e4-8ae7c0d8b3a6',\n",
       "  'type': 'tool_call'},\n",
       " {'name': 'convert_currency',\n",
       "  'args': {'amount': '10', 'conversion_rate': {'rate': '1 USD = 85.20 BDT'}},\n",
       "  'id': '231564fd-33fb-4f7c-b7e8-25ca44c59ab8',\n",
       "  'type': 'tool_call'}]"
      ]
     },
     "execution_count": 53,
     "metadata": {},
     "output_type": "execute_result"
    }
   ],
   "source": [
    "ai_response.tool_calls"
   ]
  },
  {
   "cell_type": "markdown",
   "id": "7c0101a5",
   "metadata": {},
   "source": [
    "#### We want to fetch the conversion rate from Internet! Not auto input by LLM"
   ]
  },
  {
   "cell_type": "code",
   "execution_count": 54,
   "id": "583d7c9b",
   "metadata": {},
   "outputs": [],
   "source": [
    "from langchain_core.tools import tool\n",
    "from typing import Annotated\n",
    "from langchain_core.tools import InjectedToolArg\n",
    "\n",
    "\n",
    "@tool\n",
    "def get_exchange_rate(from_currency: str, to_currency: str) -> float:\n",
    "    \"\"\"\n",
    "    Get the exchange rate from one currency to another.\n",
    "    \"\"\"\n",
    "    url = f\"https://v6.exchangerate-api.com/v6/22dd33f5efd4cebd27af814d/pair/{from_currency}/{to_currency}\"\n",
    "    response = requests.get(url)\n",
    "    data = response.json()\n",
    "    return data\n",
    "\n",
    "#Using InjectedToolArg the LLM will skip inserting unwanted value into conversion_rate variable and will wait for it to be provided during execution.\n",
    "@tool\n",
    "def convert_currency(amount: float, conversion_rate: Annotated[float, InjectedToolArg]) -> float:\n",
    "    \"\"\"\n",
    "    Convert currency using conversion rate.\n",
    "    \"\"\"\n",
    "    return amount * conversion_rate\n",
    "\n",
    "llm_with_tools=llm.bind_tools([get_exchange_rate, convert_currency])"
   ]
  },
  {
   "cell_type": "code",
   "execution_count": 55,
   "id": "08254df2",
   "metadata": {},
   "outputs": [
    {
     "data": {
      "text/plain": [
       "121.55656536"
      ]
     },
     "execution_count": 55,
     "metadata": {},
     "output_type": "execute_result"
    }
   ],
   "source": [
    "rate= get_exchange_rate.invoke({\"from_currency\": \"USD\", \"to_currency\": \"BDT\"})\n",
    "rate[\"conversion_rate\"]"
   ]
  },
  {
   "cell_type": "markdown",
   "id": "57126c57",
   "metadata": {},
   "source": [
    "# Fixed auto input rate"
   ]
  },
  {
   "cell_type": "code",
   "execution_count": 59,
   "id": "cd5a3d74",
   "metadata": {},
   "outputs": [
    {
     "data": {
      "text/plain": [
       "[{'name': 'get_exchange_rate',\n",
       "  'args': {'from_currency': 'USD', 'to_currency': 'BDT'},\n",
       "  'id': '411120de-f9b6-4880-a5f6-0aeefdd59215',\n",
       "  'type': 'tool_call'},\n",
       " {'name': 'convert_currency',\n",
       "  'args': {'amount': '10'},\n",
       "  'id': '8afd96ce-8d5b-4b5b-81fe-3ad892c548bb',\n",
       "  'type': 'tool_call'}]"
      ]
     },
     "execution_count": 59,
     "metadata": {},
     "output_type": "execute_result"
    }
   ],
   "source": [
    "from langchain_core.messages import HumanMessage\n",
    "\n",
    "messages=[HumanMessage(\"What is the exchange rate from USD to BDT and using that rate, convert 10 USD to BDT\")]\n",
    "ai_response = llm_with_tools.invoke(messages)\n",
    "messages.append(ai_response)\n",
    "ai_response.tool_calls"
   ]
  },
  {
   "cell_type": "code",
   "execution_count": 60,
   "id": "d912c966",
   "metadata": {},
   "outputs": [],
   "source": [
    "import json\n",
    "\n",
    "for tool_call in ai_response.tool_calls:\n",
    "    if tool_call[\"name\"]==\"get_exchange_rate\":\n",
    "        tool_message1=get_exchange_rate.invoke(tool_call)\n",
    "        exchange_rate=json.loads(tool_message1.content)[\"conversion_rate\"]\n",
    "        messages.append(tool_message1)\n",
    "    if tool_call[\"name\"]==\"convert_currency\":\n",
    "        tool_call[\"args\"][\"conversion_rate\"] = exchange_rate\n",
    "        tool_message2=convert_currency.invoke(tool_call)\n",
    "        messages.append(tool_message2)"
   ]
  },
  {
   "cell_type": "code",
   "execution_count": 61,
   "id": "21df2264",
   "metadata": {},
   "outputs": [
    {
     "data": {
      "text/plain": [
       "[HumanMessage(content='What is the exchange rate from USD to BDT and using that rate, convert 10 USD to BDT', additional_kwargs={}, response_metadata={}),\n",
       " AIMessage(content='', additional_kwargs={}, response_metadata={'model': 'llama3.2:latest', 'created_at': '2025-08-09T20:04:49.8516495Z', 'done': True, 'done_reason': 'stop', 'total_duration': 3196473600, 'load_duration': 68812900, 'prompt_eval_count': 236, 'prompt_eval_duration': 97096400, 'eval_count': 44, 'eval_duration': 3028784500, 'model_name': 'llama3.2:latest'}, id='run--e999c339-157d-42e9-9e88-6fa466d5f742-0', tool_calls=[{'name': 'get_exchange_rate', 'args': {'from_currency': 'USD', 'to_currency': 'BDT'}, 'id': '411120de-f9b6-4880-a5f6-0aeefdd59215', 'type': 'tool_call'}, {'name': 'convert_currency', 'args': {'amount': '10', 'conversion_rate': 121.55656536}, 'id': '8afd96ce-8d5b-4b5b-81fe-3ad892c548bb', 'type': 'tool_call'}], usage_metadata={'input_tokens': 236, 'output_tokens': 44, 'total_tokens': 280}),\n",
       " ToolMessage(content='{\"result\": \"success\", \"documentation\": \"https://www.exchangerate-api.com/docs\", \"terms_of_use\": \"https://www.exchangerate-api.com/terms\", \"time_last_update_unix\": 1754769601, \"time_last_update_utc\": \"Sat, 09 Aug 2025 20:00:01 +0000\", \"time_next_update_unix\": 1754773201, \"time_next_update_utc\": \"Sat, 09 Aug 2025 21:00:01 +0000\", \"base_code\": \"USD\", \"target_code\": \"BDT\", \"conversion_rate\": 121.55656536}', name='get_exchange_rate', tool_call_id='411120de-f9b6-4880-a5f6-0aeefdd59215'),\n",
       " ToolMessage(content='1215.5656536', name='convert_currency', tool_call_id='8afd96ce-8d5b-4b5b-81fe-3ad892c548bb')]"
      ]
     },
     "execution_count": 61,
     "metadata": {},
     "output_type": "execute_result"
    }
   ],
   "source": [
    "messages"
   ]
  },
  {
   "cell_type": "code",
   "execution_count": 62,
   "id": "50770263",
   "metadata": {},
   "outputs": [],
   "source": [
    "answer=llm_with_tools.invoke(messages)"
   ]
  },
  {
   "cell_type": "code",
   "execution_count": 64,
   "id": "3e1df80c",
   "metadata": {},
   "outputs": [
    {
     "data": {
      "text/plain": [
       "'The current exchange rate from USD to BDT is 1 USD = 121.55656536 BDT.\\n\\nUsing this rate, we can convert 10 USD to BDT as follows:\\n\\n10 USD x 121.55656536 BDT/USD = 1215.5656536 BDT'"
      ]
     },
     "execution_count": 64,
     "metadata": {},
     "output_type": "execute_result"
    }
   ],
   "source": [
    "answer.content"
   ]
  },
  {
   "cell_type": "code",
   "execution_count": null,
   "id": "d1d30691",
   "metadata": {},
   "outputs": [],
   "source": []
  }
 ],
 "metadata": {
  "kernelspec": {
   "display_name": "Python 3",
   "language": "python",
   "name": "python3"
  },
  "language_info": {
   "codemirror_mode": {
    "name": "ipython",
    "version": 3
   },
   "file_extension": ".py",
   "mimetype": "text/x-python",
   "name": "python",
   "nbconvert_exporter": "python",
   "pygments_lexer": "ipython3",
   "version": "3.11.8"
  }
 },
 "nbformat": 4,
 "nbformat_minor": 5
}
