{
 "cells": [
  {
   "cell_type": "markdown",
   "id": "6dd5b2e7",
   "metadata": {},
   "source": [
    "# AI Currency Converter Agent - Complete Project\n",
    "\n",
    "## Project Overview\n",
    "This notebook demonstrates building a complete AI agent that can:\n",
    "- Fetch real-time exchange rates from external APIs\n",
    "- Perform currency conversions with live data\n",
    "- Handle complex user requests through natural language\n",
    "- Coordinate multiple tools to provide comprehensive answers\n",
    "\n",
    "## Step 1: Testing the Exchange Rate API\n",
    "First, let's test our external API to understand the data structure and ensure it's working correctly."
   ]
  },
  {
   "cell_type": "code",
   "execution_count": 45,
   "id": "778a0b3f",
   "metadata": {},
   "outputs": [
    {
     "data": {
      "text/plain": [
       "{'result': 'success',\n",
       " 'documentation': 'https://www.exchangerate-api.com/docs',\n",
       " 'terms_of_use': 'https://www.exchangerate-api.com/terms',\n",
       " 'time_last_update_unix': 1754769601,\n",
       " 'time_last_update_utc': 'Sat, 09 Aug 2025 20:00:01 +0000',\n",
       " 'time_next_update_unix': 1754773201,\n",
       " 'time_next_update_utc': 'Sat, 09 Aug 2025 21:00:01 +0000',\n",
       " 'base_code': 'USD',\n",
       " 'target_code': 'BDT',\n",
       " 'conversion_rate': 121.55656536}"
      ]
     },
     "execution_count": 45,
     "metadata": {},
     "output_type": "execute_result"
    }
   ],
   "source": [
    "import requests\n",
    "\n",
    "url=\"https://v6.exchangerate-api.com/v6/22dd33f5efd4cebd27af814d/pair/USD/BDT\"\n",
    "response = requests.get(url)\n",
    "data = response.json()\n",
    "data"
   ]
  },
  {
   "cell_type": "markdown",
   "id": "f510b74b",
   "metadata": {},
   "source": [
    "## Step 2: Creating Currency Conversion Tools\n",
    "Now we'll create two essential tools:\n",
    "1. **get_exchange_rate**: Fetches live exchange rates from the API\n",
    "2. **convert_currency**: Performs currency conversion calculations\n",
    "\n",
    "These tools will work together to provide complete currency conversion functionality."
   ]
  },
  {
   "cell_type": "code",
   "execution_count": 46,
   "id": "7003e34e",
   "metadata": {},
   "outputs": [],
   "source": [
    "from langchain_core.tools import tool\n",
    "\n",
    "@tool\n",
    "def get_exchange_rate(from_currency: str, to_currency: str) -> float:\n",
    "    \"\"\"\n",
    "    Get the exchange rate from one currency to another.\n",
    "    \"\"\"\n",
    "    url = f\"https://v6.exchangerate-api.com/v6/22dd33f5efd4cebd27af814d/pair/{from_currency}/{to_currency}\"\n",
    "    response = requests.get(url)\n",
    "    data = response.json()\n",
    "    return data[\"conversion_rate\"]\n",
    "\n",
    "@tool\n",
    "def convert_currency(amount: float, conversion_rate: float) -> float:\n",
    "    \"\"\"\n",
    "    Convert currency using conversion rate.\n",
    "    \"\"\"\n",
    "    return amount * conversion_rate\n"
   ]
  },
  {
   "cell_type": "markdown",
   "id": "9f549b06",
   "metadata": {},
   "source": [
    "## Step 3: Setting Up the AI Model\n",
    "Let's check available models and initialize our AI with the tools we created."
   ]
  },
  {
   "cell_type": "code",
   "execution_count": 47,
   "id": "03142b6f",
   "metadata": {},
   "outputs": [
    {
     "name": "stdout",
     "output_type": "stream",
     "text": [
      "NAME                           ID              SIZE      MODIFIED    \n",
      "gemma3:4b                      a2af6cc3eb7f    3.3 GB    4 hours ago    \n",
      "llama3-groq-tool-use:latest    36211dad2b15    4.7 GB    7 hours ago    \n",
      "mistral:7b                     6577803aa9a0    4.4 GB    2 days ago     \n",
      "mxbai-embed-large:latest       468836162de7    669 MB    3 days ago     \n",
      "nomic-embed-text:latest        0a109f422b47    274 MB    3 days ago     \n",
      "gemma2:2b                      8ccf136fdd52    1.6 GB    4 days ago     \n",
      "gemma3:1b                      8648f39daa8f    815 MB    4 days ago     \n",
      "llama3.2:latest                a80c4f17acd5    2.0 GB    4 days ago     \n",
      "qwen3:4b                       2bfd38a7daaf    2.6 GB    4 days ago     \n",
      "deepseek-r1:8b                 6995872bfe4c    5.2 GB    6 days ago     \n"
     ]
    }
   ],
   "source": [
    "!ollama list"
   ]
  },
  {
   "cell_type": "markdown",
   "id": "2b6c6737",
   "metadata": {},
   "source": [
    "## Step 4: Binding Tools to AI and Testing\n",
    "Now we'll connect our tools to the AI model and test the initial interaction."
   ]
  },
  {
   "cell_type": "code",
   "execution_count": 48,
   "id": "fa168140",
   "metadata": {},
   "outputs": [],
   "source": [
    "from langchain_ollama import ChatOllama\n",
    "\n",
    "llm = ChatOllama(\n",
    "    model=\"llama3.2:latest\",\n",
    "    temperature=0.7\n",
    ")"
   ]
  },
  {
   "cell_type": "code",
   "execution_count": 49,
   "id": "ceb45376",
   "metadata": {},
   "outputs": [],
   "source": [
    "llm_with_tools=llm.bind_tools([get_exchange_rate, convert_currency])"
   ]
  },
  {
   "cell_type": "markdown",
   "id": "3df2b009",
   "metadata": {},
   "source": [
    "## Step 5: Initial Test and Problem Discovery\n",
    "Let's test our AI agent with a currency conversion request and see what happens."
   ]
  },
  {
   "cell_type": "code",
   "execution_count": 50,
   "id": "531736b1",
   "metadata": {},
   "outputs": [],
   "source": [
    "from langchain_core.messages import HumanMessage\n",
    "\n",
    "messages=[HumanMessage(\"What is the exchange rate from USD to BDT and using that rate, convert 10 USD to BDT\")]"
   ]
  },
  {
   "cell_type": "code",
   "execution_count": 51,
   "id": "51e924d5",
   "metadata": {},
   "outputs": [],
   "source": [
    "ai_response = llm_with_tools.invoke(messages)"
   ]
  },
  {
   "cell_type": "code",
   "execution_count": 52,
   "id": "f83d19c7",
   "metadata": {},
   "outputs": [
    {
     "data": {
      "text/plain": [
       "AIMessage(content='', additional_kwargs={}, response_metadata={'model': 'llama3.2:latest', 'created_at': '2025-08-09T20:04:07.2261701Z', 'done': True, 'done_reason': 'stop', 'total_duration': 5476792000, 'load_duration': 42889800, 'prompt_eval_count': 249, 'prompt_eval_duration': 1555142100, 'eval_count': 64, 'eval_duration': 3877147300, 'model_name': 'llama3.2:latest'}, id='run--1500b9ab-5aa2-4648-9b03-a85f4a643952-0', tool_calls=[{'name': 'get_exchange_rate', 'args': {'from_currency': 'USD', 'to_currency': 'BDT'}, 'id': 'fd6ea390-2cf9-47d2-b2e4-8ae7c0d8b3a6', 'type': 'tool_call'}, {'name': 'convert_currency', 'args': {'amount': '10', 'conversion_rate': {'rate': '1 USD = 85.20 BDT'}}, 'id': '231564fd-33fb-4f7c-b7e8-25ca44c59ab8', 'type': 'tool_call'}], usage_metadata={'input_tokens': 249, 'output_tokens': 64, 'total_tokens': 313})"
      ]
     },
     "execution_count": 52,
     "metadata": {},
     "output_type": "execute_result"
    }
   ],
   "source": [
    "ai_response"
   ]
  },
  {
   "cell_type": "code",
   "execution_count": 53,
   "id": "59b61304",
   "metadata": {},
   "outputs": [
    {
     "data": {
      "text/plain": [
       "[{'name': 'get_exchange_rate',\n",
       "  'args': {'from_currency': 'USD', 'to_currency': 'BDT'},\n",
       "  'id': 'fd6ea390-2cf9-47d2-b2e4-8ae7c0d8b3a6',\n",
       "  'type': 'tool_call'},\n",
       " {'name': 'convert_currency',\n",
       "  'args': {'amount': '10', 'conversion_rate': {'rate': '1 USD = 85.20 BDT'}},\n",
       "  'id': '231564fd-33fb-4f7c-b7e8-25ca44c59ab8',\n",
       "  'type': 'tool_call'}]"
      ]
     },
     "execution_count": 53,
     "metadata": {},
     "output_type": "execute_result"
    }
   ],
   "source": [
    "ai_response.tool_calls"
   ]
  },
  {
   "cell_type": "markdown",
   "id": "a151b1a4",
   "metadata": {},
   "source": [
    "## Problem Identified! 🚨\n",
    "Looking at the tool calls above, we notice the AI is **auto-generating** the conversion_rate (likely 1.0) instead of using real data from our API. This defeats the purpose of fetching live exchange rates!\n",
    "\n",
    "**Solution**: We need to force the AI to wait for the actual exchange rate before converting currencies."
   ]
  },
  {
   "cell_type": "markdown",
   "id": "7c0101a5",
   "metadata": {},
   "source": [
    "#### We want to fetch the conversion rate from Internet! Not auto input by LLM"
   ]
  },
  {
   "cell_type": "code",
   "execution_count": 54,
   "id": "583d7c9b",
   "metadata": {},
   "outputs": [],
   "source": [
    "from langchain_core.tools import tool\n",
    "from typing import Annotated\n",
    "from langchain_core.tools import InjectedToolArg\n",
    "\n",
    "\n",
    "@tool\n",
    "def get_exchange_rate(from_currency: str, to_currency: str) -> float:\n",
    "    \"\"\"\n",
    "    Get the exchange rate from one currency to another.\n",
    "    \"\"\"\n",
    "    url = f\"https://v6.exchangerate-api.com/v6/22dd33f5efd4cebd27af814d/pair/{from_currency}/{to_currency}\"\n",
    "    response = requests.get(url)\n",
    "    data = response.json()\n",
    "    return data\n",
    "\n",
    "#Using InjectedToolArg the LLM will skip inserting unwanted value into conversion_rate variable and will wait for it to be provided during execution.\n",
    "@tool\n",
    "def convert_currency(amount: float, conversion_rate: Annotated[float, InjectedToolArg]) -> float:\n",
    "    \"\"\"\n",
    "    Convert currency using conversion rate.\n",
    "    \"\"\"\n",
    "    return amount * conversion_rate\n",
    "\n",
    "llm_with_tools=llm.bind_tools([get_exchange_rate, convert_currency])"
   ]
  },
  {
   "cell_type": "markdown",
   "id": "3932cbcc",
   "metadata": {},
   "source": [
    "## Step 6: The Fix - Using InjectedToolArg\n",
    "We'll redesign our tools using `InjectedToolArg` to prevent the AI from auto-generating values that should come from external sources.\n",
    "\n",
    "**Key Change**: The `conversion_rate` parameter will be injected during execution, not provided by the AI."
   ]
  },
  {
   "cell_type": "code",
   "execution_count": 55,
   "id": "08254df2",
   "metadata": {},
   "outputs": [
    {
     "data": {
      "text/plain": [
       "121.55656536"
      ]
     },
     "execution_count": 55,
     "metadata": {},
     "output_type": "execute_result"
    }
   ],
   "source": [
    "rate= get_exchange_rate.invoke({\"from_currency\": \"USD\", \"to_currency\": \"BDT\"})\n",
    "rate[\"conversion_rate\"]"
   ]
  },
  {
   "cell_type": "markdown",
   "id": "2755c728",
   "metadata": {},
   "source": [
    "## Step 7: Testing the Fixed Solution\n",
    "Let's verify our fix works by testing the exchange rate tool independently first."
   ]
  },
  {
   "cell_type": "markdown",
   "id": "57126c57",
   "metadata": {},
   "source": [
    "# Fixed auto input rate"
   ]
  },
  {
   "cell_type": "code",
   "execution_count": 59,
   "id": "cd5a3d74",
   "metadata": {},
   "outputs": [
    {
     "data": {
      "text/plain": [
       "[{'name': 'get_exchange_rate',\n",
       "  'args': {'from_currency': 'USD', 'to_currency': 'BDT'},\n",
       "  'id': '411120de-f9b6-4880-a5f6-0aeefdd59215',\n",
       "  'type': 'tool_call'},\n",
       " {'name': 'convert_currency',\n",
       "  'args': {'amount': '10'},\n",
       "  'id': '8afd96ce-8d5b-4b5b-81fe-3ad892c548bb',\n",
       "  'type': 'tool_call'}]"
      ]
     },
     "execution_count": 59,
     "metadata": {},
     "output_type": "execute_result"
    }
   ],
   "source": [
    "from langchain_core.messages import HumanMessage\n",
    "\n",
    "messages=[HumanMessage(\"What is the exchange rate from USD to BDT and using that rate, convert 10 USD to BDT\")]\n",
    "ai_response = llm_with_tools.invoke(messages)\n",
    "messages.append(ai_response)\n",
    "ai_response.tool_calls"
   ]
  },
  {
   "cell_type": "markdown",
   "id": "bb611ba0",
   "metadata": {},
   "source": [
    "## Step 8: Building the Complete Agent Workflow\n",
    "Now we'll create the full conversational flow that:\n",
    "1. Gets the user's request\n",
    "2. Identifies which tools to use\n",
    "3. Executes tools in the correct order with real data\n",
    "4. Provides a natural language response\n",
    "\n",
    "Notice how the AI no longer tries to auto-generate the conversion_rate!"
   ]
  },
  {
   "cell_type": "code",
   "execution_count": 60,
   "id": "d912c966",
   "metadata": {},
   "outputs": [],
   "source": [
    "import json\n",
    "\n",
    "for tool_call in ai_response.tool_calls:\n",
    "    if tool_call[\"name\"]==\"get_exchange_rate\":\n",
    "        tool_message1=get_exchange_rate.invoke(tool_call)\n",
    "        exchange_rate=json.loads(tool_message1.content)[\"conversion_rate\"]\n",
    "        messages.append(tool_message1)\n",
    "    if tool_call[\"name\"]==\"convert_currency\":\n",
    "        tool_call[\"args\"][\"conversion_rate\"] = exchange_rate\n",
    "        tool_message2=convert_currency.invoke(tool_call)\n",
    "        messages.append(tool_message2)"
   ]
  },
  {
   "cell_type": "markdown",
   "id": "4c8a3698",
   "metadata": {},
   "source": [
    "## Step 9: Smart Tool Orchestration\n",
    "This is the core logic that makes our agent intelligent:\n",
    "1. **Execute exchange rate tool** first to get real data\n",
    "2. **Extract the rate** from the API response  \n",
    "3. **Inject the real rate** into the conversion tool\n",
    "4. **Execute conversion** with accurate data\n",
    "\n",
    "This ensures we always use live, accurate exchange rates!"
   ]
  },
  {
   "cell_type": "code",
   "execution_count": 61,
   "id": "21df2264",
   "metadata": {},
   "outputs": [
    {
     "data": {
      "text/plain": [
       "[HumanMessage(content='What is the exchange rate from USD to BDT and using that rate, convert 10 USD to BDT', additional_kwargs={}, response_metadata={}),\n",
       " AIMessage(content='', additional_kwargs={}, response_metadata={'model': 'llama3.2:latest', 'created_at': '2025-08-09T20:04:49.8516495Z', 'done': True, 'done_reason': 'stop', 'total_duration': 3196473600, 'load_duration': 68812900, 'prompt_eval_count': 236, 'prompt_eval_duration': 97096400, 'eval_count': 44, 'eval_duration': 3028784500, 'model_name': 'llama3.2:latest'}, id='run--e999c339-157d-42e9-9e88-6fa466d5f742-0', tool_calls=[{'name': 'get_exchange_rate', 'args': {'from_currency': 'USD', 'to_currency': 'BDT'}, 'id': '411120de-f9b6-4880-a5f6-0aeefdd59215', 'type': 'tool_call'}, {'name': 'convert_currency', 'args': {'amount': '10', 'conversion_rate': 121.55656536}, 'id': '8afd96ce-8d5b-4b5b-81fe-3ad892c548bb', 'type': 'tool_call'}], usage_metadata={'input_tokens': 236, 'output_tokens': 44, 'total_tokens': 280}),\n",
       " ToolMessage(content='{\"result\": \"success\", \"documentation\": \"https://www.exchangerate-api.com/docs\", \"terms_of_use\": \"https://www.exchangerate-api.com/terms\", \"time_last_update_unix\": 1754769601, \"time_last_update_utc\": \"Sat, 09 Aug 2025 20:00:01 +0000\", \"time_next_update_unix\": 1754773201, \"time_next_update_utc\": \"Sat, 09 Aug 2025 21:00:01 +0000\", \"base_code\": \"USD\", \"target_code\": \"BDT\", \"conversion_rate\": 121.55656536}', name='get_exchange_rate', tool_call_id='411120de-f9b6-4880-a5f6-0aeefdd59215'),\n",
       " ToolMessage(content='1215.5656536', name='convert_currency', tool_call_id='8afd96ce-8d5b-4b5b-81fe-3ad892c548bb')]"
      ]
     },
     "execution_count": 61,
     "metadata": {},
     "output_type": "execute_result"
    }
   ],
   "source": [
    "messages"
   ]
  },
  {
   "cell_type": "markdown",
   "id": "4ab8862b",
   "metadata": {},
   "source": [
    "## Step 10: Generating the Final Response\n",
    "Now we send all the messages (user request + tool results) back to the AI to generate a comprehensive, natural language response."
   ]
  },
  {
   "cell_type": "code",
   "execution_count": 62,
   "id": "50770263",
   "metadata": {},
   "outputs": [],
   "source": [
    "answer=llm_with_tools.invoke(messages)"
   ]
  },
  {
   "cell_type": "code",
   "execution_count": 64,
   "id": "3e1df80c",
   "metadata": {},
   "outputs": [
    {
     "data": {
      "text/plain": [
       "'The current exchange rate from USD to BDT is 1 USD = 121.55656536 BDT.\\n\\nUsing this rate, we can convert 10 USD to BDT as follows:\\n\\n10 USD x 121.55656536 BDT/USD = 1215.5656536 BDT'"
      ]
     },
     "execution_count": 64,
     "metadata": {},
     "output_type": "execute_result"
    }
   ],
   "source": [
    "answer.content"
   ]
  },
  {
   "cell_type": "markdown",
   "id": "edfc5165",
   "metadata": {},
   "source": [
    "## 🎉 Project Complete!\n",
    "\n",
    "### What We Built:\n",
    "✅ **AI Currency Converter Agent** that uses real-time data  \n",
    "✅ **Smart Tool Orchestration** that coordinates multiple tools  \n",
    "✅ **API Integration** with live exchange rate services  \n",
    "✅ **Natural Language Interface** for user-friendly interaction  \n",
    "\n",
    "### Key Technical Achievements:\n",
    "- **InjectedToolArg** to prevent AI hallucination of data values\n",
    "- **Multi-step tool coordination** for complex workflows  \n",
    "- **Real-time API integration** with error handling\n",
    "- **Message flow management** for conversational AI\n",
    "\n",
    "### Real-World Applications:\n",
    "- Financial trading platforms\n",
    "- Travel planning applications  \n",
    "- E-commerce currency conversion\n",
    "- International business tools\n",
    "\n",
    "This pattern can be extended to build sophisticated AI agents for any domain requiring external data integration!"
   ]
  }
 ],
 "metadata": {
  "kernelspec": {
   "display_name": "Python 3",
   "language": "python",
   "name": "python3"
  },
  "language_info": {
   "codemirror_mode": {
    "name": "ipython",
    "version": 3
   },
   "file_extension": ".py",
   "mimetype": "text/x-python",
   "name": "python",
   "nbconvert_exporter": "python",
   "pygments_lexer": "ipython3",
   "version": "3.11.8"
  }
 },
 "nbformat": 4,
 "nbformat_minor": 5
}
