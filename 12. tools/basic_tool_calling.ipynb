{
 "cells": [
  {
   "cell_type": "code",
   "execution_count": 1,
   "id": "195401b2",
   "metadata": {},
   "outputs": [],
   "source": [
    "from langchain_ollama import ChatOllama\n",
    "from langchain_core.tools import tool\n",
    "from langchain_core.messages import HumanMessage\n",
    "import requests"
   ]
  },
  {
   "cell_type": "code",
   "execution_count": 2,
   "id": "82df69b7",
   "metadata": {},
   "outputs": [],
   "source": [
    "@tool\n",
    "def multiply(a: int, b: int) -> int:\n",
    "    \"\"\"Given two numbers a and b, return their product.\"\"\"\n",
    "    return a * b"
   ]
  },
  {
   "cell_type": "code",
   "execution_count": 3,
   "id": "0c2c63b1",
   "metadata": {},
   "outputs": [
    {
     "data": {
      "text/plain": [
       "6"
      ]
     },
     "execution_count": 3,
     "metadata": {},
     "output_type": "execute_result"
    }
   ],
   "source": [
    "multiply.invoke({\"a\": 2, \"b\": 3})"
   ]
  },
  {
   "cell_type": "code",
   "execution_count": 4,
   "id": "174e677a",
   "metadata": {},
   "outputs": [
    {
     "data": {
      "text/plain": [
       "{'a': {'title': 'A', 'type': 'integer'},\n",
       " 'b': {'title': 'B', 'type': 'integer'}}"
      ]
     },
     "execution_count": 4,
     "metadata": {},
     "output_type": "execute_result"
    }
   ],
   "source": [
    "multiply.args"
   ]
  },
  {
   "cell_type": "code",
   "execution_count": 47,
   "id": "1da0859a",
   "metadata": {},
   "outputs": [],
   "source": [
    "from langchain_ollama import ChatOllama\n",
    "\n",
    "chat = ChatOllama(\n",
    "    model=\"llama3.2:latest\",\n",
    "    temperature=.5\n",
    ")"
   ]
  },
  {
   "cell_type": "code",
   "execution_count": 48,
   "id": "6a0bb8c7",
   "metadata": {},
   "outputs": [],
   "source": [
    "llm_with_tools=chat.bind_tools([multiply])"
   ]
  },
  {
   "cell_type": "code",
   "execution_count": 51,
   "id": "ae0aae7c",
   "metadata": {},
   "outputs": [
    {
     "data": {
      "text/plain": [
       "AIMessage(content='', additional_kwargs={}, response_metadata={'model': 'llama3.2:latest', 'created_at': '2025-08-09T16:32:15.3852056Z', 'done': True, 'done_reason': 'stop', 'total_duration': 1513029400, 'load_duration': 56980000, 'prompt_eval_count': 175, 'prompt_eval_duration': 66530700, 'eval_count': 22, 'eval_duration': 1388455200, 'model_name': 'llama3.2:latest'}, id='run--038ff91e-9aa0-4cd2-ab74-ddcc070b2564-0', tool_calls=[{'name': 'multiply', 'args': {'a': 2, 'b': 3}, 'id': '5367109b-b895-4abd-9028-65b508d24ac8', 'type': 'tool_call'}], usage_metadata={'input_tokens': 175, 'output_tokens': 22, 'total_tokens': 197})"
      ]
     },
     "execution_count": 51,
     "metadata": {},
     "output_type": "execute_result"
    }
   ],
   "source": [
    "llm_with_tools.invoke(\"Can you multiply 2 and 3?\")"
   ]
  },
  {
   "cell_type": "code",
   "execution_count": 52,
   "id": "908f69c1",
   "metadata": {},
   "outputs": [
    {
     "data": {
      "text/plain": [
       "{'name': 'multiply',\n",
       " 'args': {'a': '2', 'b': '3'},\n",
       " 'id': 'b63527b6-7989-421a-a28d-853d5602df68',\n",
       " 'type': 'tool_call'}"
      ]
     },
     "execution_count": 52,
     "metadata": {},
     "output_type": "execute_result"
    }
   ],
   "source": [
    "llm_with_tools.invoke(\"Can you multiply 2 and 3?\").tool_calls[0]"
   ]
  },
  {
   "cell_type": "code",
   "execution_count": 53,
   "id": "a0401e82",
   "metadata": {},
   "outputs": [
    {
     "data": {
      "text/plain": [
       "ToolMessage(content='6', name='multiply', tool_call_id='b63527b6-7989-421a-a28d-853d5602df68')"
      ]
     },
     "execution_count": 53,
     "metadata": {},
     "output_type": "execute_result"
    }
   ],
   "source": [
    "multiply.invoke({'name': 'multiply',\n",
    " 'args': {'a': '2', 'b': '3'},\n",
    " 'id': 'b63527b6-7989-421a-a28d-853d5602df68',\n",
    " 'type': 'tool_call'})"
   ]
  },
  {
   "cell_type": "code",
   "execution_count": null,
   "id": "494e692d",
   "metadata": {},
   "outputs": [],
   "source": []
  }
 ],
 "metadata": {
  "kernelspec": {
   "display_name": "Python 3",
   "language": "python",
   "name": "python3"
  },
  "language_info": {
   "codemirror_mode": {
    "name": "ipython",
    "version": 3
   },
   "file_extension": ".py",
   "mimetype": "text/x-python",
   "name": "python",
   "nbconvert_exporter": "python",
   "pygments_lexer": "ipython3",
   "version": "3.11.8"
  }
 },
 "nbformat": 4,
 "nbformat_minor": 5
}
