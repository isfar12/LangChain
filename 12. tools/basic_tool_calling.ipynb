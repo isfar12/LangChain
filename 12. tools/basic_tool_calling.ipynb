{
 "cells": [
  {
   "cell_type": "code",
   "execution_count": 1,
   "id": "195401b2",
   "metadata": {},
   "outputs": [],
   "source": [
    "from langchain_ollama import ChatOllama\n",
    "from langchain_core.tools import tool\n",
    "from langchain_core.messages import HumanMessage\n",
    "import requests"
   ]
  },
  {
   "cell_type": "markdown",
   "id": "5e34ee43",
   "metadata": {},
   "source": [
    "# Create a Tool"
   ]
  },
  {
   "cell_type": "code",
   "execution_count": 2,
   "id": "82df69b7",
   "metadata": {},
   "outputs": [],
   "source": [
    "@tool\n",
    "def multiply(a: int, b: int) -> int:\n",
    "    \"\"\"Given two numbers a and b, return their product.\"\"\"\n",
    "    return a * b"
   ]
  },
  {
   "cell_type": "code",
   "execution_count": 3,
   "id": "0c2c63b1",
   "metadata": {},
   "outputs": [
    {
     "data": {
      "text/plain": [
       "6"
      ]
     },
     "execution_count": 3,
     "metadata": {},
     "output_type": "execute_result"
    }
   ],
   "source": [
    "multiply.invoke({\"a\": 2, \"b\": 3})"
   ]
  },
  {
   "cell_type": "code",
   "execution_count": 4,
   "id": "174e677a",
   "metadata": {},
   "outputs": [
    {
     "data": {
      "text/plain": [
       "{'a': {'title': 'A', 'type': 'integer'},\n",
       " 'b': {'title': 'B', 'type': 'integer'}}"
      ]
     },
     "execution_count": 4,
     "metadata": {},
     "output_type": "execute_result"
    }
   ],
   "source": [
    "multiply.args"
   ]
  },
  {
   "cell_type": "markdown",
   "id": "a7da0436",
   "metadata": {},
   "source": [
    "# Initialize model"
   ]
  },
  {
   "cell_type": "code",
   "execution_count": 47,
   "id": "1da0859a",
   "metadata": {},
   "outputs": [],
   "source": [
    "from langchain_ollama import ChatOllama\n",
    "\n",
    "chat = ChatOllama(\n",
    "    model=\"llama3.2:latest\",\n",
    "    temperature=.5\n",
    ")"
   ]
  },
  {
   "cell_type": "markdown",
   "id": "85462c81",
   "metadata": {},
   "source": [
    "# Bind the tools"
   ]
  },
  {
   "cell_type": "code",
   "execution_count": 48,
   "id": "6a0bb8c7",
   "metadata": {},
   "outputs": [],
   "source": [
    "llm_with_tools=chat.bind_tools([multiply])"
   ]
  },
  {
   "cell_type": "markdown",
   "id": "0e885c43",
   "metadata": {},
   "source": [
    "# Testing if tools are called"
   ]
  },
  {
   "cell_type": "code",
   "execution_count": 51,
   "id": "ae0aae7c",
   "metadata": {},
   "outputs": [
    {
     "data": {
      "text/plain": [
       "AIMessage(content='', additional_kwargs={}, response_metadata={'model': 'llama3.2:latest', 'created_at': '2025-08-09T16:32:15.3852056Z', 'done': True, 'done_reason': 'stop', 'total_duration': 1513029400, 'load_duration': 56980000, 'prompt_eval_count': 175, 'prompt_eval_duration': 66530700, 'eval_count': 22, 'eval_duration': 1388455200, 'model_name': 'llama3.2:latest'}, id='run--038ff91e-9aa0-4cd2-ab74-ddcc070b2564-0', tool_calls=[{'name': 'multiply', 'args': {'a': 2, 'b': 3}, 'id': '5367109b-b895-4abd-9028-65b508d24ac8', 'type': 'tool_call'}], usage_metadata={'input_tokens': 175, 'output_tokens': 22, 'total_tokens': 197})"
      ]
     },
     "execution_count": 51,
     "metadata": {},
     "output_type": "execute_result"
    }
   ],
   "source": [
    "llm_with_tools.invoke(\"Can you multiply 2 and 3?\")"
   ]
  },
  {
   "cell_type": "markdown",
   "id": "b8411645",
   "metadata": {},
   "source": [
    "# Check Which tools were called"
   ]
  },
  {
   "cell_type": "code",
   "execution_count": 54,
   "id": "908f69c1",
   "metadata": {},
   "outputs": [
    {
     "data": {
      "text/plain": [
       "[{'name': 'multiply',\n",
       "  'args': {'a': 2, 'b': 3},\n",
       "  'id': '8f26b3bb-27f8-4ef8-b283-8c8fe97eadb2',\n",
       "  'type': 'tool_call'}]"
      ]
     },
     "execution_count": 54,
     "metadata": {},
     "output_type": "execute_result"
    }
   ],
   "source": [
    "tool_calls=llm_with_tools.invoke(\"Can you multiply 2 and 3?\").tool_calls\n",
    "tool_calls"
   ]
  },
  {
   "cell_type": "markdown",
   "id": "36cbed47",
   "metadata": {},
   "source": [
    "# Invoke the tool_message into Custom Tool"
   ]
  },
  {
   "cell_type": "code",
   "execution_count": 55,
   "id": "a0401e82",
   "metadata": {},
   "outputs": [
    {
     "data": {
      "text/plain": [
       "ToolMessage(content='6', name='multiply', tool_call_id='8f26b3bb-27f8-4ef8-b283-8c8fe97eadb2')"
      ]
     },
     "execution_count": 55,
     "metadata": {},
     "output_type": "execute_result"
    }
   ],
   "source": [
    "multiply.invoke(tool_calls[0])"
   ]
  },
  {
   "cell_type": "markdown",
   "id": "7ff2eafb",
   "metadata": {},
   "source": [
    "# Combine all and create a full AI response"
   ]
  },
  {
   "cell_type": "markdown",
   "id": "28fe70bc",
   "metadata": {},
   "source": [
    "1. Create A Human message/ Prompt\n",
    "2. Invoke using LLM and return a AI message\n",
    "3. Add both message in the list\n",
    "4. Find the tool were called \n",
    "5. Invoke the tool using the tool message extracted from step 4\n",
    "6. Combine all the messge\n",
    "7. Send the list of messages to AI\n",
    "8. Print final result "
   ]
  },
  {
   "cell_type": "code",
   "execution_count": 75,
   "id": "494e692d",
   "metadata": {},
   "outputs": [],
   "source": [
    "message=HumanMessage(\"What is the multiplication of 2 and 10?\")\n",
    "message=[message]\n",
    "llm_message=llm_with_tools.invoke(message)"
   ]
  },
  {
   "cell_type": "code",
   "execution_count": 69,
   "id": "053dda23",
   "metadata": {},
   "outputs": [],
   "source": [
    "message.append(llm_message)"
   ]
  },
  {
   "cell_type": "code",
   "execution_count": 70,
   "id": "fe1c0a1b",
   "metadata": {},
   "outputs": [
    {
     "data": {
      "text/plain": [
       "[HumanMessage(content='What is the multiplication of 2 and 10?', additional_kwargs={}, response_metadata={}),\n",
       " AIMessage(content='', additional_kwargs={}, response_metadata={'model': 'llama3.2:latest', 'created_at': '2025-08-09T17:27:02.8126514Z', 'done': True, 'done_reason': 'stop', 'total_duration': 9157557700, 'load_duration': 2257430100, 'prompt_eval_count': 177, 'prompt_eval_duration': 5569765300, 'eval_count': 22, 'eval_duration': 1327185600, 'model_name': 'llama3.2:latest'}, id='run--17f8750d-880e-471c-98b1-91e80ca02b2e-0', tool_calls=[{'name': 'multiply', 'args': {'a': '2', 'b': '10'}, 'id': '241f3d87-f77a-4771-884d-2ecfef4a2e32', 'type': 'tool_call'}], usage_metadata={'input_tokens': 177, 'output_tokens': 22, 'total_tokens': 199})]"
      ]
     },
     "execution_count": 70,
     "metadata": {},
     "output_type": "execute_result"
    }
   ],
   "source": [
    "message"
   ]
  },
  {
   "cell_type": "code",
   "execution_count": 71,
   "id": "89034cf0",
   "metadata": {},
   "outputs": [
    {
     "data": {
      "text/plain": [
       "ToolMessage(content='20', name='multiply', tool_call_id='241f3d87-f77a-4771-884d-2ecfef4a2e32')"
      ]
     },
     "execution_count": 71,
     "metadata": {},
     "output_type": "execute_result"
    }
   ],
   "source": [
    "tool_calls=multiply.invoke(llm_message.tool_calls[0])\n",
    "tool_calls"
   ]
  },
  {
   "cell_type": "code",
   "execution_count": 72,
   "id": "656b04ec",
   "metadata": {},
   "outputs": [],
   "source": [
    "message.append(tool_calls)"
   ]
  },
  {
   "cell_type": "code",
   "execution_count": 73,
   "id": "634bfaca",
   "metadata": {},
   "outputs": [
    {
     "data": {
      "text/plain": [
       "[HumanMessage(content='What is the multiplication of 2 and 10?', additional_kwargs={}, response_metadata={}),\n",
       " AIMessage(content='', additional_kwargs={}, response_metadata={'model': 'llama3.2:latest', 'created_at': '2025-08-09T17:27:02.8126514Z', 'done': True, 'done_reason': 'stop', 'total_duration': 9157557700, 'load_duration': 2257430100, 'prompt_eval_count': 177, 'prompt_eval_duration': 5569765300, 'eval_count': 22, 'eval_duration': 1327185600, 'model_name': 'llama3.2:latest'}, id='run--17f8750d-880e-471c-98b1-91e80ca02b2e-0', tool_calls=[{'name': 'multiply', 'args': {'a': '2', 'b': '10'}, 'id': '241f3d87-f77a-4771-884d-2ecfef4a2e32', 'type': 'tool_call'}], usage_metadata={'input_tokens': 177, 'output_tokens': 22, 'total_tokens': 199}),\n",
       " ToolMessage(content='20', name='multiply', tool_call_id='241f3d87-f77a-4771-884d-2ecfef4a2e32')]"
      ]
     },
     "execution_count": 73,
     "metadata": {},
     "output_type": "execute_result"
    }
   ],
   "source": [
    "message"
   ]
  },
  {
   "cell_type": "code",
   "execution_count": 74,
   "id": "6587b9a2",
   "metadata": {},
   "outputs": [
    {
     "data": {
      "text/plain": [
       "'The result of multiplying 2 and 10 is 20.'"
      ]
     },
     "execution_count": 74,
     "metadata": {},
     "output_type": "execute_result"
    }
   ],
   "source": [
    "llm_with_tools.invoke(message).content"
   ]
  }
 ],
 "metadata": {
  "kernelspec": {
   "display_name": "Python 3",
   "language": "python",
   "name": "python3"
  },
  "language_info": {
   "codemirror_mode": {
    "name": "ipython",
    "version": 3
   },
   "file_extension": ".py",
   "mimetype": "text/x-python",
   "name": "python",
   "nbconvert_exporter": "python",
   "pygments_lexer": "ipython3",
   "version": "3.11.8"
  }
 },
 "nbformat": 4,
 "nbformat_minor": 5
}
